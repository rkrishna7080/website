{
 "cells": [
  {
   "cell_type": "code",
   "execution_count": 1,
   "metadata": {},
   "outputs": [],
   "source": [
    "import pymongo\n"
   ]
  },
  {
   "cell_type": "code",
   "execution_count": 2,
   "metadata": {},
   "outputs": [
    {
     "name": "stdout",
     "output_type": "stream",
     "text": [
      "MongoClient(host=['10.0.0.37:27017'], document_class=dict, tz_aware=False, connect=True)\n"
     ]
    }
   ],
   "source": [
    "#myclient = pymongo.MongoClient(\"mongodb://localhost:27017/mongo-jupyter-demo\")\n",
    "myclient = pymongo.MongoClient(\"mongodb://10.0.0.37:27017/mongo-jupyter-demo\")\n",
    "print(myclient)"
   ]
  },
  {
   "cell_type": "code",
   "execution_count": 3,
   "metadata": {},
   "outputs": [
    {
     "name": "stdout",
     "output_type": "stream",
     "text": [
      "Database(MongoClient(host=['10.0.0.37:27017'], document_class=dict, tz_aware=False, connect=True), 'mongo-jupyter-demo')\n"
     ]
    }
   ],
   "source": [
    "mydb = myclient[\"mongo-jupyter-demo\"] #mongo-jupyter-demo is the database\n",
    "#mydb = myclient[\"playground\"]\n",
    "print(mydb)\n"
   ]
  },
  {
   "cell_type": "code",
   "execution_count": 4,
   "metadata": {},
   "outputs": [
    {
     "name": "stdout",
     "output_type": "stream",
     "text": [
      "Collection(Database(MongoClient(host=['10.0.0.37:27017'], document_class=dict, tz_aware=False, connect=True), 'mongo-jupyter-demo'), 'employee')\n"
     ]
    }
   ],
   "source": [
    "mycol = mydb[\"employee\"]\n",
    "#mycol = mydb[\"courses\"]\n",
    "print(mycol)"
   ]
  },
  {
   "cell_type": "code",
   "execution_count": 5,
   "metadata": {},
   "outputs": [
    {
     "name": "stdout",
     "output_type": "stream",
     "text": [
      "{'_id': ObjectId('5e03dcc188afad8790e4bbd8'), 'no': '1', 'name': 'John'}\n",
      "{'_id': ObjectId('5e03dcf488afad8790e4bbda'), 'no': '2', 'name': 'Jake'}\n"
     ]
    }
   ],
   "source": [
    "for i in mycol.find():\n",
    "        print(i)"
   ]
  },
  {
   "cell_type": "code",
   "execution_count": null,
   "metadata": {},
   "outputs": [],
   "source": []
  },
  {
   "cell_type": "code",
   "execution_count": null,
   "metadata": {},
   "outputs": [],
   "source": []
  }
 ],
 "metadata": {
  "kernelspec": {
   "display_name": "Python 3",
   "language": "python",
   "name": "python3"
  },
  "language_info": {
   "codemirror_mode": {
    "name": "ipython",
    "version": 3
   },
   "file_extension": ".py",
   "mimetype": "text/x-python",
   "name": "python",
   "nbconvert_exporter": "python",
   "pygments_lexer": "ipython3",
   "version": "3.7.6"
  }
 },
 "nbformat": 4,
 "nbformat_minor": 2
}
